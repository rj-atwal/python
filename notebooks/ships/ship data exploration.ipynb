{
 "cells": [
  {
   "cell_type": "markdown",
   "metadata": {},
   "source": [
    "there is another dataset\n",
    "I think the dataset you worked on is all about the ship\n",
    "not necessary. I think it is easy to find the coordinates of gas station. So I think this dataset has ship location. We can assume a ship around the gas station is to try to fill the gas. Then track the ship. And based on the ship size, we can calculate how much the oil left in its tank\n",
    "And of course, we might need some expert knowledge of the MPG of a ship of certain size\n",
    "the dataset I gave you is one day's data. We might need to rollup multiple days"
   ]
  },
  {
   "cell_type": "code",
   "execution_count": 6,
   "metadata": {
    "collapsed": false
   },
   "outputs": [
    {
     "name": "stderr",
     "output_type": "stream",
     "text": [
      "C:\\Users\\Ulric\\Anaconda3\\lib\\site-packages\\IPython\\kernel\\__init__.py:13: ShimWarning: The `IPython.kernel` package has been deprecated. You should import from ipykernel or jupyter_client instead.\n",
      "  \"You should import from ipykernel or jupyter_client instead.\", ShimWarning)\n"
     ]
    }
   ],
   "source": [
    "import pandas as pd\n",
    "import numpy as np\n",
    "import matplotlib.pyplot as plt\n",
    "%matplotlib notebook"
   ]
  },
  {
   "cell_type": "code",
   "execution_count": 16,
   "metadata": {
    "collapsed": false
   },
   "outputs": [],
   "source": [
    "pathData = '''D:\\\\data\\\\ships\\\\'''\n",
    "shipFileName = '''st.txt'''\n",
    "sailingFileName ='''dy.txt'''\n",
    "\n",
    "schemaDynamic = ['timestampUNIX',\n",
    "    'MMSI', # (Maritime Mobile Service Identity)\n",
    "    'navCondition',\n",
    "    'steeringRate',\n",
    "    'speedOverGround',\n",
    "    'deviceAccuracy',\n",
    "    'latitude',\n",
    "    'longitude',\n",
    "    'gpsCOG', # Course over ground\n",
    "    'heading',\n",
    "    'utcVerificationSeconds',\n",
    "    'packetID',\n",
    "    'dataSourceID']\n",
    "schemaStatic = ['timestampUNIX',\n",
    "    'MMSI', # (Maritime Mobile Service Identity)\n",
    "    'IMO', # (International Maritime Organization)\n",
    "    'callsign',\n",
    "    'vessel',\n",
    "    'shipType',\n",
    "    'captain',\n",
    "    'breadth',\n",
    "    'pointingDeviceType',\n",
    "    'eta',\n",
    "    'currentDraft',\n",
    "    'destination',\n",
    "    'packetID',\n",
    "    'dataSourceID']"
   ]
  },
  {
   "cell_type": "code",
   "execution_count": 7,
   "metadata": {
    "collapsed": false
   },
   "outputs": [],
   "source": [
    "#shipData = pd.read_csv(pathData, header=None, engine='c', skiprows=[83988, 137058, 288322])\n",
    "shipData = pd.read_csv(pathData+shipFileName, header=None, engine='c', quoting=3, error_bad_lines=False)\n",
    "sailingData = pd.read_csv(pathData+sailingFileName, header=None, engine='c', quoting=3, error_bad_lines=False)"
   ]
  },
  {
   "cell_type": "code",
   "execution_count": 17,
   "metadata": {
    "collapsed": false
   },
   "outputs": [],
   "source": [
    "shipData.columns = schemaStatic\n",
    "sailingData.columns = schemaDynamic"
   ]
  },
  {
   "cell_type": "code",
   "execution_count": 10,
   "metadata": {
    "collapsed": false
   },
   "outputs": [
    {
     "data": {
      "text/html": [
       "<div>\n",
       "<table border=\"1\" class=\"dataframe\">\n",
       "  <thead>\n",
       "    <tr style=\"text-align: right;\">\n",
       "      <th></th>\n",
       "      <th>timestampUNIX</th>\n",
       "      <th>MMSI</th>\n",
       "      <th>IMO</th>\n",
       "      <th>callsign</th>\n",
       "      <th>vessel</th>\n",
       "      <th>shipType</th>\n",
       "      <th>captain</th>\n",
       "      <th>breadth</th>\n",
       "      <th>pointingDeviceType</th>\n",
       "      <th>eta</th>\n",
       "      <th>currentDraft</th>\n",
       "      <th>destination</th>\n",
       "      <th>packetID</th>\n",
       "      <th>dataSourceID</th>\n",
       "    </tr>\n",
       "  </thead>\n",
       "  <tbody>\n",
       "    <tr>\n",
       "      <th>0</th>\n",
       "      <td>1409501013</td>\n",
       "      <td>219905000</td>\n",
       "      <td>0</td>\n",
       "      <td>XP5174</td>\n",
       "      <td>L68 JANGA BORK</td>\n",
       "      <td>30</td>\n",
       "      <td>18</td>\n",
       "      <td>6</td>\n",
       "      <td>1</td>\n",
       "      <td>1596</td>\n",
       "      <td>30</td>\n",
       "      <td>CH 16 FOR DEST</td>\n",
       "      <td>5</td>\n",
       "      <td>103</td>\n",
       "    </tr>\n",
       "    <tr>\n",
       "      <th>1</th>\n",
       "      <td>1409501013</td>\n",
       "      <td>219946000</td>\n",
       "      <td>0</td>\n",
       "      <td>OZYD</td>\n",
       "      <td>HELLE JES</td>\n",
       "      <td>30</td>\n",
       "      <td>21</td>\n",
       "      <td>6</td>\n",
       "      <td>1</td>\n",
       "      <td>1596</td>\n",
       "      <td>0</td>\n",
       "      <td>HUIDB SANDE</td>\n",
       "      <td>5</td>\n",
       "      <td>103</td>\n",
       "    </tr>\n",
       "    <tr>\n",
       "      <th>2</th>\n",
       "      <td>1409501013</td>\n",
       "      <td>261182647</td>\n",
       "      <td>0</td>\n",
       "      <td>SR2647</td>\n",
       "      <td>KRYSTYNA</td>\n",
       "      <td>99</td>\n",
       "      <td>62</td>\n",
       "      <td>8</td>\n",
       "      <td>15</td>\n",
       "      <td>568448</td>\n",
       "      <td>2</td>\n",
       "      <td>KALININGRAD *:</td>\n",
       "      <td>5</td>\n",
       "      <td>103</td>\n",
       "    </tr>\n",
       "    <tr>\n",
       "      <th>3</th>\n",
       "      <td>1409501013</td>\n",
       "      <td>265623790</td>\n",
       "      <td>0</td>\n",
       "      <td>NaN</td>\n",
       "      <td>EMM XXIII</td>\n",
       "      <td>0</td>\n",
       "      <td>0</td>\n",
       "      <td>0</td>\n",
       "      <td>0</td>\n",
       "      <td>0</td>\n",
       "      <td>0</td>\n",
       "      <td>NaN</td>\n",
       "      <td>24</td>\n",
       "      <td>103</td>\n",
       "    </tr>\n",
       "    <tr>\n",
       "      <th>4</th>\n",
       "      <td>1409501013</td>\n",
       "      <td>305477000</td>\n",
       "      <td>9160334</td>\n",
       "      <td>V2EM4</td>\n",
       "      <td>VECHTBORG</td>\n",
       "      <td>70</td>\n",
       "      <td>133</td>\n",
       "      <td>16</td>\n",
       "      <td>1</td>\n",
       "      <td>582656</td>\n",
       "      <td>48</td>\n",
       "      <td>BREMEN BY KIEL CANAL</td>\n",
       "      <td>5</td>\n",
       "      <td>103</td>\n",
       "    </tr>\n",
       "  </tbody>\n",
       "</table>\n",
       "</div>"
      ],
      "text/plain": [
       "   timestampUNIX       MMSI      IMO callsign                vessel  shipType  \\\n",
       "0     1409501013  219905000        0  XP5174   L68 JANGA BORK              30   \n",
       "1     1409501013  219946000        0  OZYD     HELLE JES                   30   \n",
       "2     1409501013  261182647        0   SR2647             KRYSTYNA         99   \n",
       "3     1409501013  265623790        0      NaN             EMM XXIII         0   \n",
       "4     1409501013  305477000  9160334  V2EM4    VECHTBORG                   70   \n",
       "\n",
       "   captain  breadth  pointingDeviceType     eta  currentDraft  \\\n",
       "0       18        6                   1    1596            30   \n",
       "1       21        6                   1    1596             0   \n",
       "2       62        8                  15  568448             2   \n",
       "3        0        0                   0       0             0   \n",
       "4      133       16                   1  582656            48   \n",
       "\n",
       "            destination  packetID  dataSourceID  \n",
       "0  CH 16 FOR DEST               5           103  \n",
       "1  HUIDB SANDE                  5           103  \n",
       "2        KALININGRAD *:         5           103  \n",
       "3                   NaN        24           103  \n",
       "4  BREMEN BY KIEL CANAL         5           103  "
      ]
     },
     "execution_count": 10,
     "metadata": {},
     "output_type": "execute_result"
    }
   ],
   "source": [
    "shipData.head()"
   ]
  },
  {
   "cell_type": "code",
   "execution_count": 18,
   "metadata": {
    "collapsed": false
   },
   "outputs": [
    {
     "data": {
      "text/html": [
       "<div>\n",
       "<table border=\"1\" class=\"dataframe\">\n",
       "  <thead>\n",
       "    <tr style=\"text-align: right;\">\n",
       "      <th></th>\n",
       "      <th>timestampUNIX</th>\n",
       "      <th>MMSI</th>\n",
       "      <th>navCondition</th>\n",
       "      <th>steeringRate</th>\n",
       "      <th>speedOverGround</th>\n",
       "      <th>deviceAccuracy</th>\n",
       "      <th>latitude</th>\n",
       "      <th>longitude</th>\n",
       "      <th>gpsCOG</th>\n",
       "      <th>heading</th>\n",
       "      <th>utcVerificationSeconds</th>\n",
       "      <th>packetID</th>\n",
       "      <th>dataSourceID</th>\n",
       "    </tr>\n",
       "  </thead>\n",
       "  <tbody>\n",
       "    <tr>\n",
       "      <th>0</th>\n",
       "      <td>1409501013</td>\n",
       "      <td>205218000</td>\n",
       "      <td>5</td>\n",
       "      <td>0</td>\n",
       "      <td>0</td>\n",
       "      <td>1</td>\n",
       "      <td>-0.071837</td>\n",
       "      <td>53.579707</td>\n",
       "      <td>1482</td>\n",
       "      <td>208</td>\n",
       "      <td>45</td>\n",
       "      <td>3</td>\n",
       "      <td>103</td>\n",
       "    </tr>\n",
       "    <tr>\n",
       "      <th>1</th>\n",
       "      <td>1409501013</td>\n",
       "      <td>211596150</td>\n",
       "      <td>0</td>\n",
       "      <td>0</td>\n",
       "      <td>0</td>\n",
       "      <td>1</td>\n",
       "      <td>12.098808</td>\n",
       "      <td>54.181470</td>\n",
       "      <td>3600</td>\n",
       "      <td>511</td>\n",
       "      <td>47</td>\n",
       "      <td>18</td>\n",
       "      <td>103</td>\n",
       "    </tr>\n",
       "    <tr>\n",
       "      <th>2</th>\n",
       "      <td>1409501013</td>\n",
       "      <td>231742000</td>\n",
       "      <td>0</td>\n",
       "      <td>0</td>\n",
       "      <td>72</td>\n",
       "      <td>1</td>\n",
       "      <td>-6.759133</td>\n",
       "      <td>62.081663</td>\n",
       "      <td>1401</td>\n",
       "      <td>511</td>\n",
       "      <td>32</td>\n",
       "      <td>18</td>\n",
       "      <td>103</td>\n",
       "    </tr>\n",
       "    <tr>\n",
       "      <th>3</th>\n",
       "      <td>1409501013</td>\n",
       "      <td>232000760</td>\n",
       "      <td>0</td>\n",
       "      <td>129</td>\n",
       "      <td>129</td>\n",
       "      <td>0</td>\n",
       "      <td>-2.710517</td>\n",
       "      <td>59.292250</td>\n",
       "      <td>2335</td>\n",
       "      <td>231</td>\n",
       "      <td>47</td>\n",
       "      <td>1</td>\n",
       "      <td>103</td>\n",
       "    </tr>\n",
       "    <tr>\n",
       "      <th>4</th>\n",
       "      <td>1409501013</td>\n",
       "      <td>235031438</td>\n",
       "      <td>0</td>\n",
       "      <td>0</td>\n",
       "      <td>0</td>\n",
       "      <td>0</td>\n",
       "      <td>11.849462</td>\n",
       "      <td>57.670968</td>\n",
       "      <td>2716</td>\n",
       "      <td>511</td>\n",
       "      <td>47</td>\n",
       "      <td>18</td>\n",
       "      <td>103</td>\n",
       "    </tr>\n",
       "  </tbody>\n",
       "</table>\n",
       "</div>"
      ],
      "text/plain": [
       "   timestampUNIX       MMSI  navCondition  steeringRate  speedOverGround  \\\n",
       "0     1409501013  205218000             5             0                0   \n",
       "1     1409501013  211596150             0             0                0   \n",
       "2     1409501013  231742000             0             0               72   \n",
       "3     1409501013  232000760             0           129              129   \n",
       "4     1409501013  235031438             0             0                0   \n",
       "\n",
       "   deviceAccuracy   latitude  longitude  gpsCOG  heading  \\\n",
       "0               1  -0.071837  53.579707    1482      208   \n",
       "1               1  12.098808  54.181470    3600      511   \n",
       "2               1  -6.759133  62.081663    1401      511   \n",
       "3               0  -2.710517  59.292250    2335      231   \n",
       "4               0  11.849462  57.670968    2716      511   \n",
       "\n",
       "   utcVerificationSeconds  packetID  dataSourceID  \n",
       "0                      45         3           103  \n",
       "1                      47        18           103  \n",
       "2                      32        18           103  \n",
       "3                      47         1           103  \n",
       "4                      47        18           103  "
      ]
     },
     "execution_count": 18,
     "metadata": {},
     "output_type": "execute_result"
    }
   ],
   "source": [
    "sailingData.head()"
   ]
  },
  {
   "cell_type": "markdown",
   "metadata": {},
   "source": [
    "# Join ship data to sailing Data by MMSI\n",
    "\n",
    "Memory error when joining entire day of sailingData\n",
    "\n",
    "These data sets need to be in a DB"
   ]
  },
  {
   "cell_type": "code",
   "execution_count": 21,
   "metadata": {
    "collapsed": true
   },
   "outputs": [],
   "source": [
    "# Use only a few rows due to memory issues\n",
    "sampleSize = 100000"
   ]
  },
  {
   "cell_type": "code",
   "execution_count": 22,
   "metadata": {
    "collapsed": false
   },
   "outputs": [],
   "source": [
    "sailingShipData = pd.merge(left=sailingData.loc[0:sampleSize, :], right=shipData, how='left', on='MMSI')"
   ]
  },
  {
   "cell_type": "code",
   "execution_count": 23,
   "metadata": {
    "collapsed": false
   },
   "outputs": [
    {
     "data": {
      "text/html": [
       "<div>\n",
       "<table border=\"1\" class=\"dataframe\">\n",
       "  <thead>\n",
       "    <tr style=\"text-align: right;\">\n",
       "      <th></th>\n",
       "      <th>timestampUNIX_x</th>\n",
       "      <th>MMSI</th>\n",
       "      <th>navCondition</th>\n",
       "      <th>steeringRate</th>\n",
       "      <th>speedOverGround</th>\n",
       "      <th>deviceAccuracy</th>\n",
       "      <th>latitude</th>\n",
       "      <th>longitude</th>\n",
       "      <th>gpsCOG</th>\n",
       "      <th>heading</th>\n",
       "      <th>...</th>\n",
       "      <th>vessel</th>\n",
       "      <th>shipType</th>\n",
       "      <th>captain</th>\n",
       "      <th>breadth</th>\n",
       "      <th>pointingDeviceType</th>\n",
       "      <th>eta</th>\n",
       "      <th>currentDraft</th>\n",
       "      <th>destination</th>\n",
       "      <th>packetID_y</th>\n",
       "      <th>dataSourceID_y</th>\n",
       "    </tr>\n",
       "  </thead>\n",
       "  <tbody>\n",
       "    <tr>\n",
       "      <th>0</th>\n",
       "      <td>1409501013</td>\n",
       "      <td>205218000</td>\n",
       "      <td>5</td>\n",
       "      <td>0</td>\n",
       "      <td>0</td>\n",
       "      <td>1</td>\n",
       "      <td>-0.071837</td>\n",
       "      <td>53.579707</td>\n",
       "      <td>1482</td>\n",
       "      <td>208</td>\n",
       "      <td>...</td>\n",
       "      <td>BNS BELGICA</td>\n",
       "      <td>1</td>\n",
       "      <td>51</td>\n",
       "      <td>10</td>\n",
       "      <td>1</td>\n",
       "      <td>1596</td>\n",
       "      <td>0</td>\n",
       "      <td>NaN</td>\n",
       "      <td>5</td>\n",
       "      <td>101</td>\n",
       "    </tr>\n",
       "    <tr>\n",
       "      <th>1</th>\n",
       "      <td>1409501013</td>\n",
       "      <td>205218000</td>\n",
       "      <td>5</td>\n",
       "      <td>0</td>\n",
       "      <td>0</td>\n",
       "      <td>1</td>\n",
       "      <td>-0.071837</td>\n",
       "      <td>53.579707</td>\n",
       "      <td>1482</td>\n",
       "      <td>208</td>\n",
       "      <td>...</td>\n",
       "      <td>BNS BELGICA</td>\n",
       "      <td>1</td>\n",
       "      <td>51</td>\n",
       "      <td>10</td>\n",
       "      <td>1</td>\n",
       "      <td>1596</td>\n",
       "      <td>0</td>\n",
       "      <td>NaN</td>\n",
       "      <td>5</td>\n",
       "      <td>101</td>\n",
       "    </tr>\n",
       "    <tr>\n",
       "      <th>2</th>\n",
       "      <td>1409501013</td>\n",
       "      <td>205218000</td>\n",
       "      <td>5</td>\n",
       "      <td>0</td>\n",
       "      <td>0</td>\n",
       "      <td>1</td>\n",
       "      <td>-0.071837</td>\n",
       "      <td>53.579707</td>\n",
       "      <td>1482</td>\n",
       "      <td>208</td>\n",
       "      <td>...</td>\n",
       "      <td>BNS BELGICA</td>\n",
       "      <td>1</td>\n",
       "      <td>51</td>\n",
       "      <td>10</td>\n",
       "      <td>1</td>\n",
       "      <td>1596</td>\n",
       "      <td>0</td>\n",
       "      <td>NaN</td>\n",
       "      <td>5</td>\n",
       "      <td>101</td>\n",
       "    </tr>\n",
       "    <tr>\n",
       "      <th>3</th>\n",
       "      <td>1409501013</td>\n",
       "      <td>205218000</td>\n",
       "      <td>5</td>\n",
       "      <td>0</td>\n",
       "      <td>0</td>\n",
       "      <td>1</td>\n",
       "      <td>-0.071837</td>\n",
       "      <td>53.579707</td>\n",
       "      <td>1482</td>\n",
       "      <td>208</td>\n",
       "      <td>...</td>\n",
       "      <td>BNS BELGICA</td>\n",
       "      <td>1</td>\n",
       "      <td>51</td>\n",
       "      <td>10</td>\n",
       "      <td>1</td>\n",
       "      <td>1596</td>\n",
       "      <td>0</td>\n",
       "      <td>NaN</td>\n",
       "      <td>5</td>\n",
       "      <td>101</td>\n",
       "    </tr>\n",
       "    <tr>\n",
       "      <th>4</th>\n",
       "      <td>1409501013</td>\n",
       "      <td>205218000</td>\n",
       "      <td>5</td>\n",
       "      <td>0</td>\n",
       "      <td>0</td>\n",
       "      <td>1</td>\n",
       "      <td>-0.071837</td>\n",
       "      <td>53.579707</td>\n",
       "      <td>1482</td>\n",
       "      <td>208</td>\n",
       "      <td>...</td>\n",
       "      <td>BNS BELGICA</td>\n",
       "      <td>1</td>\n",
       "      <td>51</td>\n",
       "      <td>10</td>\n",
       "      <td>1</td>\n",
       "      <td>1596</td>\n",
       "      <td>0</td>\n",
       "      <td>NaN</td>\n",
       "      <td>5</td>\n",
       "      <td>101</td>\n",
       "    </tr>\n",
       "  </tbody>\n",
       "</table>\n",
       "<p>5 rows × 26 columns</p>\n",
       "</div>"
      ],
      "text/plain": [
       "   timestampUNIX_x       MMSI  navCondition  steeringRate  speedOverGround  \\\n",
       "0       1409501013  205218000             5             0                0   \n",
       "1       1409501013  205218000             5             0                0   \n",
       "2       1409501013  205218000             5             0                0   \n",
       "3       1409501013  205218000             5             0                0   \n",
       "4       1409501013  205218000             5             0                0   \n",
       "\n",
       "   deviceAccuracy  latitude  longitude  gpsCOG  heading       ...        \\\n",
       "0               1 -0.071837  53.579707    1482      208       ...         \n",
       "1               1 -0.071837  53.579707    1482      208       ...         \n",
       "2               1 -0.071837  53.579707    1482      208       ...         \n",
       "3               1 -0.071837  53.579707    1482      208       ...         \n",
       "4               1 -0.071837  53.579707    1482      208       ...         \n",
       "\n",
       "                 vessel  shipType  captain  breadth  pointingDeviceType   eta  \\\n",
       "0  BNS BELGICA                  1       51       10                   1  1596   \n",
       "1  BNS BELGICA                  1       51       10                   1  1596   \n",
       "2  BNS BELGICA                  1       51       10                   1  1596   \n",
       "3  BNS BELGICA                  1       51       10                   1  1596   \n",
       "4  BNS BELGICA                  1       51       10                   1  1596   \n",
       "\n",
       "  currentDraft  destination  packetID_y  dataSourceID_y  \n",
       "0            0          NaN           5             101  \n",
       "1            0          NaN           5             101  \n",
       "2            0          NaN           5             101  \n",
       "3            0          NaN           5             101  \n",
       "4            0          NaN           5             101  \n",
       "\n",
       "[5 rows x 26 columns]"
      ]
     },
     "execution_count": 23,
     "metadata": {},
     "output_type": "execute_result"
    }
   ],
   "source": [
    "sailingShipData.head()"
   ]
  },
  {
   "cell_type": "code",
   "execution_count": 81,
   "metadata": {
    "collapsed": false
   },
   "outputs": [
    {
     "data": {
      "text/plain": [
       "9.854583333333334"
      ]
     },
     "execution_count": 81,
     "metadata": {},
     "output_type": "execute_result"
    }
   ],
   "source": [
    "#eta is in days?\n",
    "851436 / 60/ 60 / 24"
   ]
  },
  {
   "cell_type": "code",
   "execution_count": 82,
   "metadata": {
    "collapsed": false
   },
   "outputs": [
    {
     "data": {
      "text/plain": [
       "8.0"
      ]
     },
     "execution_count": 82,
     "metadata": {},
     "output_type": "execute_result"
    }
   ],
   "source": [
    "# currentDraft is an 8 bit number?\n",
    "np.log2(256)"
   ]
  },
  {
   "cell_type": "code",
   "execution_count": 60,
   "metadata": {
    "collapsed": false
   },
   "outputs": [
    {
     "data": {
      "text/plain": [
       "0"
      ]
     },
     "execution_count": 60,
     "metadata": {},
     "output_type": "execute_result"
    }
   ],
   "source": [
    "sum(shipData.iloc[:, 0].isnull())"
   ]
  },
  {
   "cell_type": "code",
   "execution_count": 45,
   "metadata": {
    "collapsed": false
   },
   "outputs": [
    {
     "data": {
      "text/plain": [
       "(3267075, 14)"
      ]
     },
     "execution_count": 45,
     "metadata": {},
     "output_type": "execute_result"
    }
   ],
   "source": [
    "shipData.shape"
   ]
  },
  {
   "cell_type": "code",
   "execution_count": 41,
   "metadata": {
    "collapsed": false
   },
   "outputs": [
    {
     "data": {
      "text/plain": [
       "0               1409503140\n",
       "1                538004244\n",
       "2                  9218404\n",
       "3                  V7VZ2  \n",
       "4     FEDERAL SHIMANTO    \n",
       "5                       70\n",
       "6                      190\n",
       "7                       23\n",
       "8                        1\n",
       "9                   592768\n",
       "10                      60\n",
       "11                MONTREAL\n",
       "12                       5\n",
       "13                     101\n",
       "Name: 83987, dtype: object"
      ]
     },
     "execution_count": 41,
     "metadata": {},
     "output_type": "execute_result"
    }
   ],
   "source": [
    "shipData.loc[83987]"
   ]
  },
  {
   "cell_type": "code",
   "execution_count": 42,
   "metadata": {
    "collapsed": false
   },
   "outputs": [
    {
     "data": {
      "text/plain": [
       "['1409501013,219905000,0,XP5174 ,L68 JANGA BORK      ,30,18,6,1,1596,30,CH 16 FOR DEST      ,5,103\\n',\n",
       " '1409501013,219946000,0,OZYD   ,HELLE JES           ,30,21,6,1,1596,0,HUIDB SANDE         ,5,103\\n',\n",
       " '1409501013,261182647,0,SR2647,KRYSTYNA ,99,62,8,15,568448,2,KALININGRAD *:,5,103\\n',\n",
       " '1409501013,265623790,0,,EMM XXIII,0,0,0,0,0,0,,24,103\\n']"
      ]
     },
     "execution_count": 42,
     "metadata": {},
     "output_type": "execute_result"
    }
   ],
   "source": [
    "temp[0:4]"
   ]
  },
  {
   "cell_type": "code",
   "execution_count": 52,
   "metadata": {
    "collapsed": false
   },
   "outputs": [
    {
     "data": {
      "text/plain": [
       "13"
      ]
     },
     "execution_count": 52,
     "metadata": {},
     "output_type": "execute_result"
    }
   ],
   "source": [
    "len(schemaDynamic)"
   ]
  },
  {
   "cell_type": "code",
   "execution_count": 53,
   "metadata": {
    "collapsed": false
   },
   "outputs": [
    {
     "data": {
      "text/html": [
       "<div>\n",
       "<table border=\"1\" class=\"dataframe\">\n",
       "  <thead>\n",
       "    <tr style=\"text-align: right;\">\n",
       "      <th></th>\n",
       "      <th>UNIX timestamp</th>\n",
       "      <th>Ship MMSI</th>\n",
       "      <th>IMO Ship (International Maritime Organization)</th>\n",
       "      <th>Ship callsign</th>\n",
       "      <th>Vessel</th>\n",
       "      <th>The type of ship</th>\n",
       "      <th>captain</th>\n",
       "      <th>Breadth</th>\n",
       "      <th>Pointing device type</th>\n",
       "      <th>ETA</th>\n",
       "      <th>The current draft</th>\n",
       "      <th>destination</th>\n",
       "      <th>Packet ID</th>\n",
       "      <th>Data Source ID</th>\n",
       "    </tr>\n",
       "  </thead>\n",
       "  <tbody>\n",
       "    <tr>\n",
       "      <th>0</th>\n",
       "      <td>1409501013</td>\n",
       "      <td>219905000</td>\n",
       "      <td>0</td>\n",
       "      <td>XP5174</td>\n",
       "      <td>L68 JANGA BORK</td>\n",
       "      <td>30</td>\n",
       "      <td>18</td>\n",
       "      <td>6</td>\n",
       "      <td>1</td>\n",
       "      <td>1596</td>\n",
       "      <td>30</td>\n",
       "      <td>CH 16 FOR DEST</td>\n",
       "      <td>5</td>\n",
       "      <td>103</td>\n",
       "    </tr>\n",
       "    <tr>\n",
       "      <th>1</th>\n",
       "      <td>1409501013</td>\n",
       "      <td>219946000</td>\n",
       "      <td>0</td>\n",
       "      <td>OZYD</td>\n",
       "      <td>HELLE JES</td>\n",
       "      <td>30</td>\n",
       "      <td>21</td>\n",
       "      <td>6</td>\n",
       "      <td>1</td>\n",
       "      <td>1596</td>\n",
       "      <td>0</td>\n",
       "      <td>HUIDB SANDE</td>\n",
       "      <td>5</td>\n",
       "      <td>103</td>\n",
       "    </tr>\n",
       "    <tr>\n",
       "      <th>2</th>\n",
       "      <td>1409501013</td>\n",
       "      <td>261182647</td>\n",
       "      <td>0</td>\n",
       "      <td>SR2647</td>\n",
       "      <td>KRYSTYNA</td>\n",
       "      <td>99</td>\n",
       "      <td>62</td>\n",
       "      <td>8</td>\n",
       "      <td>15</td>\n",
       "      <td>568448</td>\n",
       "      <td>2</td>\n",
       "      <td>KALININGRAD *:</td>\n",
       "      <td>5</td>\n",
       "      <td>103</td>\n",
       "    </tr>\n",
       "    <tr>\n",
       "      <th>3</th>\n",
       "      <td>1409501013</td>\n",
       "      <td>265623790</td>\n",
       "      <td>0</td>\n",
       "      <td>NaN</td>\n",
       "      <td>EMM XXIII</td>\n",
       "      <td>0</td>\n",
       "      <td>0</td>\n",
       "      <td>0</td>\n",
       "      <td>0</td>\n",
       "      <td>0</td>\n",
       "      <td>0</td>\n",
       "      <td>NaN</td>\n",
       "      <td>24</td>\n",
       "      <td>103</td>\n",
       "    </tr>\n",
       "    <tr>\n",
       "      <th>4</th>\n",
       "      <td>1409501013</td>\n",
       "      <td>305477000</td>\n",
       "      <td>9160334</td>\n",
       "      <td>V2EM4</td>\n",
       "      <td>VECHTBORG</td>\n",
       "      <td>70</td>\n",
       "      <td>133</td>\n",
       "      <td>16</td>\n",
       "      <td>1</td>\n",
       "      <td>582656</td>\n",
       "      <td>48</td>\n",
       "      <td>BREMEN BY KIEL CANAL</td>\n",
       "      <td>5</td>\n",
       "      <td>103</td>\n",
       "    </tr>\n",
       "  </tbody>\n",
       "</table>\n",
       "</div>"
      ],
      "text/plain": [
       "   UNIX timestamp  Ship MMSI  IMO Ship (International Maritime Organization)  \\\n",
       "0      1409501013  219905000                                               0   \n",
       "1      1409501013  219946000                                               0   \n",
       "2      1409501013  261182647                                               0   \n",
       "3      1409501013  265623790                                               0   \n",
       "4      1409501013  305477000                                         9160334   \n",
       "\n",
       "  Ship callsign                Vessel  The type of ship  captain  Breadth  \\\n",
       "0       XP5174   L68 JANGA BORK                      30       18        6   \n",
       "1       OZYD     HELLE JES                           30       21        6   \n",
       "2        SR2647             KRYSTYNA                 99       62        8   \n",
       "3           NaN             EMM XXIII                 0        0        0   \n",
       "4       V2EM4    VECHTBORG                           70      133       16   \n",
       "\n",
       "   Pointing device type     ETA  The current draft           destination  \\\n",
       "0                     1    1596                 30  CH 16 FOR DEST         \n",
       "1                     1    1596                  0  HUIDB SANDE            \n",
       "2                    15  568448                  2        KALININGRAD *:   \n",
       "3                     0       0                  0                   NaN   \n",
       "4                     1  582656                 48  BREMEN BY KIEL CANAL   \n",
       "\n",
       "   Packet ID  Data Source ID  \n",
       "0          5             103  \n",
       "1          5             103  \n",
       "2          5             103  \n",
       "3         24             103  \n",
       "4          5             103  "
      ]
     },
     "execution_count": 53,
     "metadata": {},
     "output_type": "execute_result"
    }
   ],
   "source": [
    "temp = shipData.head()\n",
    "temp.columns = schemaStatic\n",
    "temp"
   ]
  },
  {
   "cell_type": "code",
   "execution_count": 38,
   "metadata": {
    "collapsed": false
   },
   "outputs": [
    {
     "data": {
      "text/html": [
       "<div>\n",
       "<table border=\"1\" class=\"dataframe\">\n",
       "  <thead>\n",
       "    <tr style=\"text-align: right;\">\n",
       "      <th></th>\n",
       "      <th>0</th>\n",
       "      <th>1</th>\n",
       "      <th>2</th>\n",
       "      <th>5</th>\n",
       "      <th>6</th>\n",
       "      <th>7</th>\n",
       "      <th>8</th>\n",
       "      <th>9</th>\n",
       "      <th>10</th>\n",
       "      <th>12</th>\n",
       "      <th>13</th>\n",
       "    </tr>\n",
       "  </thead>\n",
       "  <tbody>\n",
       "    <tr>\n",
       "      <th>count</th>\n",
       "      <td>5.000000e+00</td>\n",
       "      <td>5.000000e+00</td>\n",
       "      <td>5.000000</td>\n",
       "      <td>5.000000</td>\n",
       "      <td>5.00000</td>\n",
       "      <td>5.000000</td>\n",
       "      <td>5.000000</td>\n",
       "      <td>5.000000</td>\n",
       "      <td>5.000000</td>\n",
       "      <td>5.000000</td>\n",
       "      <td>5</td>\n",
       "    </tr>\n",
       "    <tr>\n",
       "      <th>mean</th>\n",
       "      <td>1.409501e+09</td>\n",
       "      <td>2.544269e+08</td>\n",
       "      <td>1832066.800000</td>\n",
       "      <td>45.800000</td>\n",
       "      <td>46.80000</td>\n",
       "      <td>7.200000</td>\n",
       "      <td>3.600000</td>\n",
       "      <td>230859.200000</td>\n",
       "      <td>16.000000</td>\n",
       "      <td>8.800000</td>\n",
       "      <td>103</td>\n",
       "    </tr>\n",
       "    <tr>\n",
       "      <th>std</th>\n",
       "      <td>2.262742e+01</td>\n",
       "      <td>3.590897e+07</td>\n",
       "      <td>4096625.904121</td>\n",
       "      <td>38.771123</td>\n",
       "      <td>53.26068</td>\n",
       "      <td>5.761944</td>\n",
       "      <td>6.387488</td>\n",
       "      <td>314700.804872</td>\n",
       "      <td>21.954498</td>\n",
       "      <td>8.497058</td>\n",
       "      <td>0</td>\n",
       "    </tr>\n",
       "    <tr>\n",
       "      <th>min</th>\n",
       "      <td>1.409501e+09</td>\n",
       "      <td>2.199050e+08</td>\n",
       "      <td>0.000000</td>\n",
       "      <td>0.000000</td>\n",
       "      <td>0.00000</td>\n",
       "      <td>0.000000</td>\n",
       "      <td>0.000000</td>\n",
       "      <td>0.000000</td>\n",
       "      <td>0.000000</td>\n",
       "      <td>5.000000</td>\n",
       "      <td>103</td>\n",
       "    </tr>\n",
       "    <tr>\n",
       "      <th>25%</th>\n",
       "      <td>1.409501e+09</td>\n",
       "      <td>2.199460e+08</td>\n",
       "      <td>0.000000</td>\n",
       "      <td>30.000000</td>\n",
       "      <td>18.00000</td>\n",
       "      <td>6.000000</td>\n",
       "      <td>1.000000</td>\n",
       "      <td>1596.000000</td>\n",
       "      <td>0.000000</td>\n",
       "      <td>5.000000</td>\n",
       "      <td>103</td>\n",
       "    </tr>\n",
       "    <tr>\n",
       "      <th>50%</th>\n",
       "      <td>1.409501e+09</td>\n",
       "      <td>2.611826e+08</td>\n",
       "      <td>0.000000</td>\n",
       "      <td>30.000000</td>\n",
       "      <td>21.00000</td>\n",
       "      <td>6.000000</td>\n",
       "      <td>1.000000</td>\n",
       "      <td>1596.000000</td>\n",
       "      <td>2.000000</td>\n",
       "      <td>5.000000</td>\n",
       "      <td>103</td>\n",
       "    </tr>\n",
       "    <tr>\n",
       "      <th>75%</th>\n",
       "      <td>1.409501e+09</td>\n",
       "      <td>2.656238e+08</td>\n",
       "      <td>0.000000</td>\n",
       "      <td>70.000000</td>\n",
       "      <td>62.00000</td>\n",
       "      <td>8.000000</td>\n",
       "      <td>1.000000</td>\n",
       "      <td>568448.000000</td>\n",
       "      <td>30.000000</td>\n",
       "      <td>5.000000</td>\n",
       "      <td>103</td>\n",
       "    </tr>\n",
       "    <tr>\n",
       "      <th>max</th>\n",
       "      <td>1.409501e+09</td>\n",
       "      <td>3.054770e+08</td>\n",
       "      <td>9160334.000000</td>\n",
       "      <td>99.000000</td>\n",
       "      <td>133.00000</td>\n",
       "      <td>16.000000</td>\n",
       "      <td>15.000000</td>\n",
       "      <td>582656.000000</td>\n",
       "      <td>48.000000</td>\n",
       "      <td>24.000000</td>\n",
       "      <td>103</td>\n",
       "    </tr>\n",
       "  </tbody>\n",
       "</table>\n",
       "</div>"
      ],
      "text/plain": [
       "                 0             1               2          5          6   \\\n",
       "count  5.000000e+00  5.000000e+00        5.000000   5.000000    5.00000   \n",
       "mean   1.409501e+09  2.544269e+08  1832066.800000  45.800000   46.80000   \n",
       "std    2.262742e+01  3.590897e+07  4096625.904121  38.771123   53.26068   \n",
       "min    1.409501e+09  2.199050e+08        0.000000   0.000000    0.00000   \n",
       "25%    1.409501e+09  2.199460e+08        0.000000  30.000000   18.00000   \n",
       "50%    1.409501e+09  2.611826e+08        0.000000  30.000000   21.00000   \n",
       "75%    1.409501e+09  2.656238e+08        0.000000  70.000000   62.00000   \n",
       "max    1.409501e+09  3.054770e+08  9160334.000000  99.000000  133.00000   \n",
       "\n",
       "              7          8              9          10         12   13  \n",
       "count   5.000000   5.000000       5.000000   5.000000   5.000000    5  \n",
       "mean    7.200000   3.600000  230859.200000  16.000000   8.800000  103  \n",
       "std     5.761944   6.387488  314700.804872  21.954498   8.497058    0  \n",
       "min     0.000000   0.000000       0.000000   0.000000   5.000000  103  \n",
       "25%     6.000000   1.000000    1596.000000   0.000000   5.000000  103  \n",
       "50%     6.000000   1.000000    1596.000000   2.000000   5.000000  103  \n",
       "75%     8.000000   1.000000  568448.000000  30.000000   5.000000  103  \n",
       "max    16.000000  15.000000  582656.000000  48.000000  24.000000  103  "
      ]
     },
     "execution_count": 38,
     "metadata": {},
     "output_type": "execute_result"
    }
   ],
   "source": [
    "shipData.head().describe()"
   ]
  },
  {
   "cell_type": "code",
   "execution_count": 43,
   "metadata": {
    "collapsed": false
   },
   "outputs": [
    {
     "data": {
      "text/plain": [
       "['1409588028,910060265,0,,                    ,0,0,0,0,0,0,,24,14\\n',\n",
       " '1409588044,200000054,0,,YU FA 3 HAO A JING  ,30,26,4,0,0,0,,19,14\\n',\n",
       " '1409588067,200006446,0,,                    ,0,0,0,0,0,0,,24,14\\n',\n",
       " '1409588086,412467672,0,,YUE DIANYU41178     ,0,0,0,0,0,0,,24,14\\n',\n",
       " '1409588088,910060265,0,       ,,30,0,0,0,0,0,,24,14\\n']"
      ]
     },
     "execution_count": 43,
     "metadata": {},
     "output_type": "execute_result"
    }
   ],
   "source": [
    "temp[-5:]"
   ]
  },
  {
   "cell_type": "code",
   "execution_count": 37,
   "metadata": {
    "collapsed": false
   },
   "outputs": [
    {
     "data": {
      "text/html": [
       "<div>\n",
       "<table border=\"1\" class=\"dataframe\">\n",
       "  <thead>\n",
       "    <tr style=\"text-align: right;\">\n",
       "      <th></th>\n",
       "      <th>0</th>\n",
       "      <th>1</th>\n",
       "      <th>2</th>\n",
       "      <th>3</th>\n",
       "      <th>4</th>\n",
       "      <th>5</th>\n",
       "      <th>6</th>\n",
       "      <th>7</th>\n",
       "      <th>8</th>\n",
       "      <th>9</th>\n",
       "      <th>10</th>\n",
       "      <th>11</th>\n",
       "      <th>12</th>\n",
       "      <th>13</th>\n",
       "    </tr>\n",
       "  </thead>\n",
       "  <tbody>\n",
       "    <tr>\n",
       "      <th>3267070</th>\n",
       "      <td>1409588028</td>\n",
       "      <td>910060265</td>\n",
       "      <td>0</td>\n",
       "      <td>NaN</td>\n",
       "      <td></td>\n",
       "      <td>0</td>\n",
       "      <td>0</td>\n",
       "      <td>0</td>\n",
       "      <td>0</td>\n",
       "      <td>0</td>\n",
       "      <td>0</td>\n",
       "      <td>NaN</td>\n",
       "      <td>24</td>\n",
       "      <td>14</td>\n",
       "    </tr>\n",
       "    <tr>\n",
       "      <th>3267071</th>\n",
       "      <td>1409588044</td>\n",
       "      <td>200000054</td>\n",
       "      <td>0</td>\n",
       "      <td>NaN</td>\n",
       "      <td>YU FA 3 HAO A JING</td>\n",
       "      <td>30</td>\n",
       "      <td>26</td>\n",
       "      <td>4</td>\n",
       "      <td>0</td>\n",
       "      <td>0</td>\n",
       "      <td>0</td>\n",
       "      <td>NaN</td>\n",
       "      <td>19</td>\n",
       "      <td>14</td>\n",
       "    </tr>\n",
       "    <tr>\n",
       "      <th>3267072</th>\n",
       "      <td>1409588067</td>\n",
       "      <td>200006446</td>\n",
       "      <td>0</td>\n",
       "      <td>NaN</td>\n",
       "      <td></td>\n",
       "      <td>0</td>\n",
       "      <td>0</td>\n",
       "      <td>0</td>\n",
       "      <td>0</td>\n",
       "      <td>0</td>\n",
       "      <td>0</td>\n",
       "      <td>NaN</td>\n",
       "      <td>24</td>\n",
       "      <td>14</td>\n",
       "    </tr>\n",
       "    <tr>\n",
       "      <th>3267073</th>\n",
       "      <td>1409588086</td>\n",
       "      <td>412467672</td>\n",
       "      <td>0</td>\n",
       "      <td>NaN</td>\n",
       "      <td>YUE DIANYU41178</td>\n",
       "      <td>0</td>\n",
       "      <td>0</td>\n",
       "      <td>0</td>\n",
       "      <td>0</td>\n",
       "      <td>0</td>\n",
       "      <td>0</td>\n",
       "      <td>NaN</td>\n",
       "      <td>24</td>\n",
       "      <td>14</td>\n",
       "    </tr>\n",
       "    <tr>\n",
       "      <th>3267074</th>\n",
       "      <td>1409588088</td>\n",
       "      <td>910060265</td>\n",
       "      <td>0</td>\n",
       "      <td></td>\n",
       "      <td>NaN</td>\n",
       "      <td>30</td>\n",
       "      <td>0</td>\n",
       "      <td>0</td>\n",
       "      <td>0</td>\n",
       "      <td>0</td>\n",
       "      <td>0</td>\n",
       "      <td>NaN</td>\n",
       "      <td>24</td>\n",
       "      <td>14</td>\n",
       "    </tr>\n",
       "  </tbody>\n",
       "</table>\n",
       "</div>"
      ],
      "text/plain": [
       "                 0          1   2        3                     4   5   6   7   \\\n",
       "3267070  1409588028  910060265   0      NaN                         0   0   0   \n",
       "3267071  1409588044  200000054   0      NaN  YU FA 3 HAO A JING    30  26   4   \n",
       "3267072  1409588067  200006446   0      NaN                         0   0   0   \n",
       "3267073  1409588086  412467672   0      NaN  YUE DIANYU41178        0   0   0   \n",
       "3267074  1409588088  910060265   0                            NaN  30   0   0   \n",
       "\n",
       "         8   9   10   11  12  13  \n",
       "3267070   0   0   0  NaN  24  14  \n",
       "3267071   0   0   0  NaN  19  14  \n",
       "3267072   0   0   0  NaN  24  14  \n",
       "3267073   0   0   0  NaN  24  14  \n",
       "3267074   0   0   0  NaN  24  14  "
      ]
     },
     "execution_count": 37,
     "metadata": {},
     "output_type": "execute_result"
    }
   ],
   "source": [
    "shipData.tail()"
   ]
  }
 ],
 "metadata": {
  "kernelspec": {
   "display_name": "Python 3",
   "language": "python",
   "name": "python3"
  },
  "language_info": {
   "codemirror_mode": {
    "name": "ipython",
    "version": 3
   },
   "file_extension": ".py",
   "mimetype": "text/x-python",
   "name": "python",
   "nbconvert_exporter": "python",
   "pygments_lexer": "ipython3",
   "version": "3.4.4"
  }
 },
 "nbformat": 4,
 "nbformat_minor": 0
}
