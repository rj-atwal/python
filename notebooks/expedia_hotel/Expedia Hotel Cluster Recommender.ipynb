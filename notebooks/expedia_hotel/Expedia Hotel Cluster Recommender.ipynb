{
 "cells": [
  {
   "cell_type": "code",
   "execution_count": 60,
   "metadata": {
    "collapsed": false
   },
   "outputs": [
    {
     "name": "stderr",
     "output_type": "stream",
     "text": [
      "/home/hadoop/IPythonNB/venv/local/lib64/python2.7/site-packages/matplotlib/font_manager.py:273: UserWarning: Matplotlib is building the font cache using fc-list. This may take a moment.\n",
      "  warnings.warn('Matplotlib is building the font cache using fc-list. This may take a moment.')\n"
     ]
    }
   ],
   "source": [
    "import matplotlib.pyplot as plt\n",
    "%matplotlib inline\n",
    "\n",
    "import pyspark.sql.functions as F\n",
    "from pyspark.ml.recommendation import ALS"
   ]
  },
  {
   "cell_type": "markdown",
   "metadata": {},
   "source": [
    "# Load the training data"
   ]
  },
  {
   "cell_type": "code",
   "execution_count": 2,
   "metadata": {
    "collapsed": false
   },
   "outputs": [
    {
     "name": "stdout",
     "output_type": "stream",
     "text": [
      "+-------------------+---------+--------------+---------------------+--------------------+------------------+-------------------------+-------+---------+----------+-------+----------+----------+---------------+-----------------+-----------+-------------------+------------------------+----------+---+---------------+-------------+------------+-------------+\n",
      "|          date_time|site_name|posa_continent|user_location_country|user_location_region|user_location_city|orig_destination_distance|user_id|is_mobile|is_package|channel|   srch_ci|   srch_co|srch_adults_cnt|srch_children_cnt|srch_rm_cnt|srch_destination_id|srch_destination_type_id|is_booking|cnt|hotel_continent|hotel_country|hotel_market|hotel_cluster|\n",
      "+-------------------+---------+--------------+---------------------+--------------------+------------------+-------------------------+-------+---------+----------+-------+----------+----------+---------------+-----------------+-----------+-------------------+------------------------+----------+---+---------------+-------------+------------+-------------+\n",
      "|2014-08-11 07:46:59|        2|             3|                   66|                 348|             48862|                2234.2641|     12|        0|         1|      9|2014-08-27|2014-08-31|              2|                0|          1|               8250|                       1|         0|  3|              2|           50|         628|            1|\n",
      "|2014-08-11 08:22:12|        2|             3|                   66|                 348|             48862|                2234.2641|     12|        0|         1|      9|2014-08-29|2014-09-02|              2|                0|          1|               8250|                       1|         1|  1|              2|           50|         628|            1|\n",
      "|2014-08-11 08:24:33|        2|             3|                   66|                 348|             48862|                2234.2641|     12|        0|         0|      9|2014-08-29|2014-09-02|              2|                0|          1|               8250|                       1|         0|  1|              2|           50|         628|            1|\n",
      "|2014-08-09 18:05:16|        2|             3|                   66|                 442|             35390|                 913.1932|     93|        0|         0|      3|2014-11-23|2014-11-28|              2|                0|          1|              14984|                       1|         0|  1|              2|           50|        1457|           80|\n",
      "|2014-08-09 18:08:18|        2|             3|                   66|                 442|             35390|                 913.6259|     93|        0|         0|      3|2014-11-23|2014-11-28|              2|                0|          1|              14984|                       1|         0|  1|              2|           50|        1457|           21|\n",
      "|2014-08-09 18:13:12|        2|             3|                   66|                 442|             35390|                 911.5142|     93|        0|         0|      3|2014-11-23|2014-11-28|              2|                0|          1|              14984|                       1|         0|  1|              2|           50|        1457|           92|\n",
      "|2014-07-16 09:42:23|        2|             3|                   66|                 189|             10067|                         |    501|        0|         0|      2|2014-08-01|2014-08-02|              2|                0|          1|               8267|                       1|         0|  2|              2|           50|         675|           41|\n",
      "|2014-07-16 09:45:48|        2|             3|                   66|                 189|             10067|                         |    501|        0|         1|      2|2014-08-01|2014-08-02|              2|                0|          1|               8267|                       1|         0|  1|              2|           50|         675|           41|\n",
      "|2014-07-16 09:52:11|        2|             3|                   66|                 189|             10067|                         |    501|        0|         0|      2|2014-08-01|2014-08-02|              2|                0|          1|               8267|                       1|         0|  1|              2|           50|         675|           69|\n",
      "|2014-07-16 09:55:24|        2|             3|                   66|                 189|             10067|                         |    501|        0|         0|      2|2014-08-01|2014-08-02|              2|                0|          1|               8267|                       1|         0|  1|              2|           50|         675|           70|\n",
      "|2014-07-16 10:00:06|        2|             3|                   66|                 189|             10067|                         |    501|        0|         0|      2|2014-08-01|2014-08-02|              2|                0|          1|               8267|                       1|         0|  1|              2|           50|         675|           98|\n",
      "|2014-07-16 10:02:58|        2|             3|                   66|                 189|             10067|                         |    501|        0|         0|      2|2014-08-01|2014-08-02|              2|                0|          1|               8267|                       1|         0|  1|              2|           50|         675|           10|\n",
      "|2014-01-17 06:24:56|        2|             3|                   66|                 318|             22418|                 420.6642|    756|        0|         1|      9|2014-04-17|2014-04-20|              2|                0|          1|               8291|                       1|         0|  5|              2|           50|         191|           18|\n",
      "|2014-01-18 14:33:31|        2|             3|                   66|                 318|             52078|                         |    756|        0|         1|      9|2014-04-16|2014-04-19|              2|                0|          1|               8291|                       1|         0|  1|              2|           50|         191|           28|\n",
      "|2014-01-21 06:39:08|        2|             3|                   66|                 318|             22418|                 421.8551|    756|        0|         1|      2|2014-04-17|2014-04-20|              2|                0|          1|               8291|                       1|         0|  1|              2|           50|         191|           25|\n",
      "|2014-01-21 06:40:18|        2|             3|                   66|                 318|             22418|                 421.8551|    756|        0|         1|      2|2014-04-18|2014-04-20|              2|                0|          1|               8291|                       1|         0|  1|              2|           50|         191|           25|\n",
      "|2014-01-22 06:10:02|        2|             3|                   66|                 318|             22418|                 421.8551|    756|        0|         1|      2|2014-04-18|2014-04-20|              2|                0|          1|               8291|                       1|         0|  1|              2|           50|         191|           25|\n",
      "|2014-01-24 11:52:04|        2|             3|                   66|                 318|             22418|                 421.8551|    756|        0|         1|      9|2014-04-17|2014-04-19|              2|                0|          1|               8291|                       1|         0|  1|              2|           50|         191|           25|\n",
      "|2014-01-24 17:26:24|        2|             3|                   66|                 318|             52078|                         |    756|        0|         1|      9|2014-04-17|2014-04-19|              2|                0|          1|               8291|                       1|         0|  1|              2|           50|         191|           25|\n",
      "|2014-02-27 17:44:23|        2|             3|                   66|                 318|             52078|                         |    756|        0|         1|      4|2014-04-17|2014-04-19|              2|                0|          1|               8291|                       1|         0|  1|              2|           50|         191|            2|\n",
      "+-------------------+---------+--------------+---------------------+--------------------+------------------+-------------------------+-------+---------+----------+-------+----------+----------+---------------+-----------------+-----------+-------------------+------------------------+----------+---+---------------+-------------+------------+-------------+\n",
      "only showing top 20 rows\n",
      "\n"
     ]
    }
   ],
   "source": [
    "# Define file paths and data schemas\n",
    "\n",
    "trainingText = sc.textFile('s3n://uwong.expedia.hotel/training_data/train.csv.gz')\n",
    "\n",
    "# Parse text into RDDs\n",
    "\n",
    "trainingData = (trainingText\n",
    "    .map(lambda x: x.split('\\n'))\n",
    "    .map(lambda x: x[0].split(','))\n",
    ")\n",
    "\n",
    "# Save column header\n",
    "columnNames = trainingData.first()\n",
    "\n",
    "dfTrainingData = (trainingData\n",
    "    .filter(lambda x: x != columnNames) # remove header\n",
    "    .toDF(columnNames)\n",
    ")\n",
    "\n",
    "dfTrainingData.show()"
   ]
  },
  {
   "cell_type": "markdown",
   "metadata": {},
   "source": [
    "# Take a small sample of the data (from 37 million down to 37,000)"
   ]
  },
  {
   "cell_type": "code",
   "execution_count": 5,
   "metadata": {
    "collapsed": false
   },
   "outputs": [],
   "source": [
    "# Take a smaller sample for faster debugging\n",
    "dfTrainingSample = dfTrainingData.sample(withReplacement=False, fraction=0.001, seed=42)\n",
    "dfTrainingSample.cache()\n",
    "dfTrainingSample.registerTempTable('training_data')"
   ]
  },
  {
   "cell_type": "markdown",
   "metadata": {},
   "source": [
    "# Transform data to count bookings and clicks by user_id and hotel_cluster"
   ]
  },
  {
   "cell_type": "code",
   "execution_count": 76,
   "metadata": {
    "collapsed": false
   },
   "outputs": [
    {
     "name": "stdout",
     "output_type": "stream",
     "text": [
      "+-------+-------------+------------+\n",
      "|user_id|hotel_cluster|num_bookings|\n",
      "+-------+-------------+------------+\n",
      "|   9681|           10|           1|\n",
      "| 984866|            0|           1|\n",
      "| 957456|            5|           1|\n",
      "|1135134|           18|           1|\n",
      "| 482707|           52|           1|\n",
      "| 577587|           82|           1|\n",
      "| 615209|           11|           1|\n",
      "| 343514|           21|           1|\n",
      "| 698844|           28|           1|\n",
      "|1089582|           95|           1|\n",
      "| 223086|            8|           1|\n",
      "|1104571|           11|           1|\n",
      "| 865557|           16|           1|\n",
      "|1167188|            9|           1|\n",
      "| 959311|            1|           1|\n",
      "| 964155|           72|           1|\n",
      "| 863477|           14|           1|\n",
      "| 694346|           82|           1|\n",
      "| 721707|           75|           1|\n",
      "| 212883|           64|           1|\n",
      "+-------+-------------+------------+\n",
      "only showing top 20 rows\n",
      "\n"
     ]
    }
   ],
   "source": [
    "# For each booking row\n",
    "\n",
    "dfBookings = (dfTrainingSample\n",
    "                    .filter(dfTrainingSample.is_booking == 1)\n",
    "                    .groupBy(['user_id', 'hotel_cluster'])\n",
    "                    .agg(F.count('is_booking').alias('num_bookings'))\n",
    "              )\n",
    "dfBookings.show()\n",
    "\n",
    "# Join the number of preceding clicks "
   ]
  },
  {
   "cell_type": "code",
   "execution_count": 77,
   "metadata": {
    "collapsed": false
   },
   "outputs": [
    {
     "name": "stdout",
     "output_type": "stream",
     "text": [
      "+-------+--------------------+\n",
      "|summary|        num_bookings|\n",
      "+-------+--------------------+\n",
      "|  count|                2989|\n",
      "|   mean|  1.0006691201070592|\n",
      "| stddev|0.025863027109764552|\n",
      "|    min|                   1|\n",
      "|    max|                   2|\n",
      "+-------+--------------------+\n",
      "\n"
     ]
    }
   ],
   "source": [
    "dfBookings.select('num_bookings').describe().show()"
   ]
  },
  {
   "cell_type": "code",
   "execution_count": 78,
   "metadata": {
    "collapsed": false
   },
   "outputs": [
    {
     "name": "stdout",
     "output_type": "stream",
     "text": [
      "+-------+-------------+----------+\n",
      "|user_id|hotel_cluster|num_clicks|\n",
      "+-------+-------------+----------+\n",
      "| 378005|           66|         1|\n",
      "| 712896|            6|         1|\n",
      "| 940050|            1|         1|\n",
      "| 983231|           70|         1|\n",
      "| 369280|           34|         1|\n",
      "| 652925|           91|         1|\n",
      "|1064706|           98|         1|\n",
      "| 233455|           58|         1|\n",
      "| 901105|           70|         1|\n",
      "|1073211|           37|         1|\n",
      "|  31266|           58|         1|\n",
      "| 965057|           14|         1|\n",
      "| 461083|           81|         1|\n",
      "| 734817|           18|         1|\n",
      "| 957456|            5|         1|\n",
      "|1153899|           85|         1|\n",
      "|1197819|           85|         1|\n",
      "| 124833|           37|         1|\n",
      "| 384958|           40|         1|\n",
      "| 516769|           96|         1|\n",
      "+-------+-------------+----------+\n",
      "only showing top 20 rows\n",
      "\n"
     ]
    }
   ],
   "source": [
    "dfClicks = (dfTrainingSample\n",
    "            .filter(dfTrainingSample.is_booking == 0)\n",
    "            .groupBy(['user_id', 'hotel_cluster'])\n",
    "            .agg(F.count('is_booking').alias('num_clicks'))\n",
    "            )\n",
    "dfClicks.show()"
   ]
  },
  {
   "cell_type": "code",
   "execution_count": 80,
   "metadata": {
    "collapsed": false
   },
   "outputs": [
    {
     "name": "stdout",
     "output_type": "stream",
     "text": [
      "+-------+-------------------+\n",
      "|summary|         num_clicks|\n",
      "+-------+-------------------+\n",
      "|  count|              34426|\n",
      "|   mean| 1.0025852553302737|\n",
      "| stddev|0.05246845364783292|\n",
      "|    min|                  1|\n",
      "|    max|                  4|\n",
      "+-------+-------------------+\n",
      "\n"
     ]
    }
   ],
   "source": [
    "dfClicks.select('num_clicks').describe().show()"
   ]
  },
  {
   "cell_type": "code",
   "execution_count": 90,
   "metadata": {
    "collapsed": false
   },
   "outputs": [
    {
     "name": "stdout",
     "output_type": "stream",
     "text": [
      "+-------+-------------+----------+\n",
      "|user_id|hotel_cluster|num_events|\n",
      "+-------+-------------+----------+\n",
      "| 378005|           66|         1|\n",
      "| 712896|            6|         1|\n",
      "| 940050|            1|         1|\n",
      "| 983231|           70|         1|\n",
      "| 369280|           34|         1|\n",
      "| 652925|           91|         1|\n",
      "|1064706|           98|         1|\n",
      "| 233455|           58|         1|\n",
      "| 901105|           70|         8|\n",
      "|1073211|           37|         1|\n",
      "|  31266|           58|         1|\n",
      "| 965057|           14|         2|\n",
      "| 461083|           81|         1|\n",
      "| 734817|           18|         3|\n",
      "| 957456|            5|         1|\n",
      "|1153899|           85|         2|\n",
      "|1197819|           85|         2|\n",
      "| 124833|           37|         2|\n",
      "| 384958|           40|         1|\n",
      "| 516769|           96|         1|\n",
      "+-------+-------------+----------+\n",
      "only showing top 20 rows\n",
      "\n"
     ]
    }
   ],
   "source": [
    "dfEvents = (dfTrainingSample\n",
    "            .filter(dfTrainingSample.is_booking == 0)\n",
    "            .groupBy(['user_id', 'hotel_cluster'])\n",
    "            .agg(F.sum('cnt').cast('int').alias('num_events'))\n",
    "            )\n",
    "dfEvents.show()"
   ]
  },
  {
   "cell_type": "code",
   "execution_count": 91,
   "metadata": {
    "collapsed": false
   },
   "outputs": [
    {
     "name": "stdout",
     "output_type": "stream",
     "text": [
      "+-------+------------------+\n",
      "|summary|        num_events|\n",
      "+-------+------------------+\n",
      "|  count|             34426|\n",
      "|   mean|1.5269273223726254|\n",
      "| stddev|1.2417517363165582|\n",
      "|    min|                 1|\n",
      "|    max|                27|\n",
      "+-------+------------------+\n",
      "\n"
     ]
    }
   ],
   "source": [
    "dfEvents.select('num_events').describe().show()"
   ]
  },
  {
   "cell_type": "code",
   "execution_count": 93,
   "metadata": {
    "collapsed": false
   },
   "outputs": [
    {
     "name": "stdout",
     "output_type": "stream",
     "text": [
      "+-------+-------------+------------+----------+----------+\n",
      "|user_id|hotel_cluster|num_bookings|num_clicks|num_events|\n",
      "+-------+-------------+------------+----------+----------+\n",
      "|1024567|           64|           0|         1|         1|\n",
      "|1037993|           65|           0|         1|         5|\n",
      "|1041372|           63|           0|         1|         2|\n",
      "|1043123|           25|           0|         1|         1|\n",
      "|1046637|           60|           0|         1|         1|\n",
      "|1057669|           43|           0|         1|         2|\n",
      "|1064706|           98|           0|         1|         1|\n",
      "|1071150|           19|           0|         1|         2|\n",
      "|1072629|           33|           0|         1|         1|\n",
      "|1073211|           37|           0|         1|         1|\n",
      "|1079176|           62|           0|         1|         1|\n",
      "|1085095|           90|           0|         1|         1|\n",
      "|1089582|           95|           1|         0|         0|\n",
      "|1090007|            4|           0|         1|         2|\n",
      "|1104571|           11|           1|         0|         0|\n",
      "|1108091|           87|           0|         1|         1|\n",
      "| 112058|           99|           0|         1|         1|\n",
      "| 112697|           69|           0|         1|         1|\n",
      "|1129000|           68|           0|         1|         1|\n",
      "|1134544|           47|           0|         1|         3|\n",
      "+-------+-------------+------------+----------+----------+\n",
      "only showing top 20 rows\n",
      "\n"
     ]
    }
   ],
   "source": [
    "dfBookingClicks = (dfBookings\n",
    "                  .join(dfClicks, \n",
    "#                         on=(dfBookings.user_id == dfClicks.user_id) & (dfBookings.hotel_cluster == dfClicks.hotel_cluster), \n",
    "                        on=['user_id', 'hotel_cluster'],\n",
    "                        how='outer')\n",
    "                   .select('user_id', 'hotel_cluster', 'num_bookings', 'num_clicks')\n",
    "                  )\n",
    "\n",
    "dfBookingClicksEvents = (dfBookingClicks\n",
    "                         .join(dfEvents, \n",
    "                            on=['user_id', 'hotel_cluster'],\n",
    "                            how='outer')\n",
    "                         .select('user_id', 'hotel_cluster', 'num_bookings', 'num_clicks', 'num_events')\n",
    "                         .na.fill(0)\n",
    "                        )\n",
    "dfBookingClicksEvents.show()"
   ]
  },
  {
   "cell_type": "markdown",
   "metadata": {},
   "source": [
    "# Create rating columns that combines bookings and clicks into a single value"
   ]
  },
  {
   "cell_type": "code",
   "execution_count": 96,
   "metadata": {
    "collapsed": false
   },
   "outputs": [
    {
     "name": "stdout",
     "output_type": "stream",
     "text": [
      "+-------+-------------+------------+----------+----------+------+\n",
      "|user_id|hotel_cluster|num_bookings|num_clicks|num_events|rating|\n",
      "+-------+-------------+------------+----------+----------+------+\n",
      "|1024567|           64|           0|         1|         1|     1|\n",
      "|1037993|           65|           0|         1|         5|     5|\n",
      "|1041372|           63|           0|         1|         2|     2|\n",
      "|1043123|           25|           0|         1|         1|     1|\n",
      "|1046637|           60|           0|         1|         1|     1|\n",
      "|1057669|           43|           0|         1|         2|     2|\n",
      "|1064706|           98|           0|         1|         1|     1|\n",
      "|1071150|           19|           0|         1|         2|     2|\n",
      "|1072629|           33|           0|         1|         1|     1|\n",
      "|1073211|           37|           0|         1|         1|     1|\n",
      "|1079176|           62|           0|         1|         1|     1|\n",
      "|1085095|           90|           0|         1|         1|     1|\n",
      "|1089582|           95|           1|         0|         0|     5|\n",
      "|1090007|            4|           0|         1|         2|     2|\n",
      "|1104571|           11|           1|         0|         0|     5|\n",
      "|1108091|           87|           0|         1|         1|     1|\n",
      "| 112058|           99|           0|         1|         1|     1|\n",
      "| 112697|           69|           0|         1|         1|     1|\n",
      "|1129000|           68|           0|         1|         1|     1|\n",
      "|1134544|           47|           0|         1|         3|     3|\n",
      "+-------+-------------+------------+----------+----------+------+\n",
      "only showing top 20 rows\n",
      "\n"
     ]
    }
   ],
   "source": [
    "bookingWeight = 5\n",
    "dfBookingClicksEventsRating = (dfBookingClicksEvents\n",
    "                               .withColumn('rating', \n",
    "                                           bookingWeight * dfBookingClicksEvents.num_bookings +  dfBookingClicksEvents.num_events)\n",
    "                               )\n",
    "dfBookingClicksEventsRating.show()"
   ]
  },
  {
   "cell_type": "code",
   "execution_count": 97,
   "metadata": {
    "collapsed": false
   },
   "outputs": [
    {
     "name": "stdout",
     "output_type": "stream",
     "text": [
      "+-------+------------------+-------------------+------------------+------------------+\n",
      "|summary|      num_bookings|         num_clicks|        num_events|            rating|\n",
      "+-------+------------------+-------------------+------------------+------------------+\n",
      "|  count|             37401|              37401|             37401|             37401|\n",
      "|   mean|0.0799711237667442| 0.9228362877997914|1.4054704419667923|1.8053260608005133|\n",
      "| stddev|0.2714491891086528|0.27591876306726987| 1.260952453309527| 1.521007784479165|\n",
      "|    min|                 0|                  0|                 0|                 1|\n",
      "|    max|                 2|                  4|                27|                27|\n",
      "+-------+------------------+-------------------+------------------+------------------+\n",
      "\n"
     ]
    }
   ],
   "source": [
    "dfBookingClicksEventsRating.select('num_bookings', 'num_clicks', 'num_events', 'rating').describe().show()"
   ]
  },
  {
   "cell_type": "markdown",
   "metadata": {},
   "source": [
    "# Fit the recommender model"
   ]
  },
  {
   "cell_type": "code",
   "execution_count": 99,
   "metadata": {
    "collapsed": false
   },
   "outputs": [],
   "source": [
    "als = ALS(rank=10, maxIter=5, implicitPrefs=True,\n",
    "                          userCol=\"user_id\", itemCol=\"hotel_cluster\", ratingCol=\"rating\")\n",
    "recommendationModel = als.fit(dfBookingClicksEventsRating)"
   ]
  },
  {
   "cell_type": "markdown",
   "metadata": {},
   "source": [
    "# Examine predictions made onto the same training data"
   ]
  },
  {
   "cell_type": "code",
   "execution_count": 102,
   "metadata": {
    "collapsed": false
   },
   "outputs": [],
   "source": [
    "# predict the 'ratings' (num_clicks) a user will make for each \n",
    "dfPredictions = recommendationModel.transform(dfBookingClicksEventsRating)"
   ]
  },
  {
   "cell_type": "code",
   "execution_count": 105,
   "metadata": {
    "collapsed": false
   },
   "outputs": [
    {
     "name": "stdout",
     "output_type": "stream",
     "text": [
      "+-------+-------------+------------+----------+----------+------+----------+\n",
      "|user_id|hotel_cluster|num_bookings|num_clicks|num_events|rating|prediction|\n",
      "+-------+-------------+------------+----------+----------+------+----------+\n",
      "| 421228|           91|           0|         1|        11|    11|0.90930957|\n",
      "| 772435|           91|           0|         1|         9|     9| 0.8931101|\n",
      "| 407285|           91|           0|         1|         9|     9| 0.8931101|\n",
      "| 915950|           65|           0|         1|        19|    19|0.88791215|\n",
      "| 251628|           65|           0|         1|        18|    18| 0.8827048|\n",
      "| 476363|           65|           0|         1|        17|    17|0.87698996|\n",
      "|1037837|           91|           0|         1|         7|     7| 0.8698652|\n",
      "| 282191|           91|           0|         1|         7|     7| 0.8698652|\n",
      "| 575536|           64|           0|         1|        13|    13|0.86136615|\n",
      "|1113225|           65|           0|         1|        14|    14| 0.8559323|\n",
      "| 756299|           91|           1|         0|         0|     5|  0.854403|\n",
      "| 855975|           91|           0|         1|         6|     6| 0.8539889|\n",
      "| 707043|           91|           0|         1|         6|     6| 0.8539889|\n",
      "|1111875|           91|           0|         1|         6|     6| 0.8539889|\n",
      "| 869606|           91|           0|         1|         6|     6| 0.8539889|\n",
      "|1025195|           91|           0|         1|         6|     6| 0.8539889|\n",
      "| 241713|           91|           0|         1|         6|     6| 0.8539889|\n",
      "|1126691|           91|           0|         1|         6|     6| 0.8539889|\n",
      "| 583253|           98|           0|         1|        19|    19| 0.8488602|\n",
      "| 289473|           65|           0|         1|        13|    13|0.84721404|\n",
      "+-------+-------------+------------+----------+----------+------+----------+\n",
      "only showing top 20 rows\n",
      "\n"
     ]
    }
   ],
   "source": [
    "dfPredictionsSorted = (dfPredictions\n",
    "                       .orderBy('prediction', ascending=False))\n",
    "dfPredictionsSorted.show()"
   ]
  },
  {
   "cell_type": "code",
   "execution_count": 106,
   "metadata": {
    "collapsed": false
   },
   "outputs": [
    {
     "name": "stdout",
     "output_type": "stream",
     "text": [
      "+-------+-------------------+\n",
      "|summary|         prediction|\n",
      "+-------+-------------------+\n",
      "|  count|              37401|\n",
      "|   mean|0.25804449174448296|\n",
      "| stddev|0.17601403170185298|\n",
      "|    min|        -0.08518164|\n",
      "|    max|         0.90930957|\n",
      "+-------+-------------------+\n",
      "\n"
     ]
    }
   ],
   "source": [
    "dfPredictionsSorted.select('prediction').describe().show()"
   ]
  },
  {
   "cell_type": "markdown",
   "metadata": {},
   "source": [
    "# Evaluate the predictions\n",
    "\n",
    "See if there is a correlation between the prediction we made and bookings, clicks, and combined rating"
   ]
  },
  {
   "cell_type": "code",
   "execution_count": 117,
   "metadata": {
    "collapsed": true
   },
   "outputs": [],
   "source": [
    "predictionRows = (dfPredictionsSorted\n",
    "               .select('num_bookings', 'num_events', 'rating', 'prediction')\n",
    "               ).collect()"
   ]
  },
  {
   "cell_type": "code",
   "execution_count": 119,
   "metadata": {
    "collapsed": false
   },
   "outputs": [],
   "source": [
    "bookings = [row.num_bookings for row in predictionRows]\n",
    "events = [row.num_events for row in predictionRows]\n",
    "ratings = [row.rating for row in predictionRows]\n",
    "predictions = [row.prediction for row in predictionRows]"
   ]
  },
  {
   "cell_type": "code",
   "execution_count": 116,
   "metadata": {
    "collapsed": false
   },
   "outputs": [
    {
     "data": {
      "text/plain": [
       "<matplotlib.collections.PathCollection at 0x7f4a99aea5d0>"
      ]
     },
     "execution_count": 116,
     "metadata": {},
     "output_type": "execute_result"
    },
    {
     "data": {
      "image/png": "[encoded data removed]",
      "text/plain": [
       "<matplotlib.figure.Figure at 0x7f4a9a9d4c90>"
      ]
     },
     "metadata": {},
     "output_type": "display_data"
    }
   ],
   "source": [
    "plt.scatter(preds, bookings)"
   ]
  },
  {
   "cell_type": "code",
   "execution_count": 120,
   "metadata": {
    "collapsed": false
   },
   "outputs": [
    {
     "data": {
      "text/plain": [
       "<matplotlib.collections.PathCollection at 0x7f4a9a997350>"
      ]
     },
     "execution_count": 120,
     "metadata": {},
     "output_type": "execute_result"
    },
    {
     "data": {
      "image/png": "[encoded data removed]",
      "text/plain": [
       "<matplotlib.figure.Figure at 0x7f4a99a58b90>"
      ]
     },
     "metadata": {},
     "output_type": "display_data"
    }
   ],
   "source": [
    "plt.scatter(preds, events)"
   ]
  },
  {
   "cell_type": "code",
   "execution_count": 121,
   "metadata": {
    "collapsed": false
   },
   "outputs": [
    {
     "data": {
      "text/plain": [
       "<matplotlib.collections.PathCollection at 0x7f4a9a151d90>"
      ]
     },
     "execution_count": 121,
     "metadata": {},
     "output_type": "execute_result"
    },
    {
     "data": {
      "image/png": "[encoded data removed]",
      "text/plain": [
       "<matplotlib.figure.Figure at 0x7f4a9a8f9410>"
      ]
     },
     "metadata": {},
     "output_type": "display_data"
    }
   ],
   "source": [
    "plt.scatter(preds, ratings)"
   ]
  },
  {
   "cell_type": "code",
   "execution_count": 107,
   "metadata": {
    "collapsed": false
   },
   "outputs": [
    {
     "ename": "ImportError",
     "evalue": "No module named pandas",
     "output_type": "error",
     "traceback": [
      "\u001b[1;31m\u001b[0m",
      "\u001b[1;31mImportError\u001b[0mTraceback (most recent call last)",
      "\u001b[1;32m<ipython-input-107-16a34d55c683>\u001b[0m in \u001b[0;36m<module>\u001b[1;34m()\u001b[0m\n\u001b[1;32m----> 1\u001b[1;33m \u001b[0mpdPredictions\u001b[0m \u001b[1;33m=\u001b[0m \u001b[0mdfPredictionsSorted\u001b[0m\u001b[1;33m.\u001b[0m\u001b[0mtoPandas\u001b[0m\u001b[1;33m(\u001b[0m\u001b[1;33m)\u001b[0m\u001b[1;33m\u001b[0m\u001b[0m\n\u001b[0m",
      "\u001b[1;32m/usr/lib/spark/python/pyspark/sql/dataframe.py\u001b[0m in \u001b[0;36mtoPandas\u001b[1;34m(self)\u001b[0m\n\u001b[0;32m   1378\u001b[0m         \u001b[1;36m1\u001b[0m    \u001b[1;36m5\u001b[0m    \u001b[0mBob\u001b[0m\u001b[1;33m\u001b[0m\u001b[0m\n\u001b[0;32m   1379\u001b[0m         \"\"\"\n\u001b[1;32m-> 1380\u001b[1;33m         \u001b[1;32mimport\u001b[0m \u001b[0mpandas\u001b[0m \u001b[1;32mas\u001b[0m \u001b[0mpd\u001b[0m\u001b[1;33m\u001b[0m\u001b[0m\n\u001b[0m\u001b[0;32m   1381\u001b[0m         \u001b[1;32mreturn\u001b[0m \u001b[0mpd\u001b[0m\u001b[1;33m.\u001b[0m\u001b[0mDataFrame\u001b[0m\u001b[1;33m.\u001b[0m\u001b[0mfrom_records\u001b[0m\u001b[1;33m(\u001b[0m\u001b[0mself\u001b[0m\u001b[1;33m.\u001b[0m\u001b[0mcollect\u001b[0m\u001b[1;33m(\u001b[0m\u001b[1;33m)\u001b[0m\u001b[1;33m,\u001b[0m \u001b[0mcolumns\u001b[0m\u001b[1;33m=\u001b[0m\u001b[0mself\u001b[0m\u001b[1;33m.\u001b[0m\u001b[0mcolumns\u001b[0m\u001b[1;33m)\u001b[0m\u001b[1;33m\u001b[0m\u001b[0m\n\u001b[0;32m   1382\u001b[0m \u001b[1;33m\u001b[0m\u001b[0m\n",
      "\u001b[1;31mImportError\u001b[0m: No module named pandas"
     ]
    }
   ],
   "source": [
    "import pandas as pd\n",
    "pdPredictions = dfPredictionsSorted.toPandas()"
   ]
  }
 ],
 "metadata": {
  "kernelspec": {
   "display_name": "Python 2",
   "language": "python",
   "name": "python2"
  },
  "language_info": {
   "codemirror_mode": {
    "name": "ipython",
    "version": 2
   },
   "file_extension": ".py",
   "mimetype": "text/x-python",
   "name": "python",
   "nbconvert_exporter": "python",
   "pygments_lexer": "ipython2",
   "version": "2.7.10"
  }
 },
 "nbformat": 4,
 "nbformat_minor": 0
}
